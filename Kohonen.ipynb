{
  "nbformat": 4,
  "nbformat_minor": 0,
  "metadata": {
    "accelerator": "GPU",
    "colab": {
      "name": "Kohonen.ipynb",
      "provenance": []
    },
    "kernelspec": {
      "display_name": "Python 3",
      "name": "python3"
    },
    "language_info": {
      "name": "python"
    }
  },
  "cells": [
    {
      "cell_type": "code",
      "metadata": {
        "colab": {
          "background_save": true
        },
        "id": "USwowAsEdO9E",
        "outputId": "eb8af949-fa7b-4a3a-85b4-2a371dd82b2d"
      },
      "source": [
        "#KOHONEN NETWORK\n",
        "import matplotlib.pyplot as plt\n",
        "import numpy as np\n",
        "\n",
        "\n",
        "class SOFM:\n",
        "    def __init__(self, lr, epochs):\n",
        "        self.map = np.random.uniform(0, 1, size=(40, 40, 3))\n",
        "        self.epochs = epochs\n",
        "        self.landa = self.epochs / np.log(20)\n",
        "        self.radius = 20\n",
        "        self.lr = lr\n",
        "\n",
        "    def update(self, minX, minY, x):\n",
        "        for i in range(len(self.map)):\n",
        "            for j in range(len(self.map[i])):\n",
        "                interval = np.power(np.power((i - minX), 2) + np.power((j - minY), 2), 0.5)\n",
        "                if interval < self.radius:\n",
        "                    flow = np.exp(-interval / (2 * (self.radius ** 2)))\n",
        "                    self.map[i][j] += flow * self.lr * (x - self.map[i][j])\n",
        "\n",
        "    def train(self, input):\n",
        "        for epoch in range(self.epochs):\n",
        "            data = input[epoch % 1600]\n",
        "            interval = float(\"inf\")\n",
        "            for i in range(len(self.map)):\n",
        "                for j in range(len(self.map[i])):\n",
        "                    if np.sqrt(np.sum(np.power((self.map[i][j] - data), 2 ))) < interval:\n",
        "                        interval = np.sqrt(np.sum(np.power((self.map[i][j] - data), 2)))\n",
        "                        X_min, Y_min = (i, j)\n",
        "            self.update(X_min, Y_min, data)\n",
        "        plt.subplot(1, 1, 1)\n",
        "        plt.axis('off')\n",
        "        plt.title(\"output A\")\n",
        "        plt.imshow(self.map)\n",
        "        plt.show()\n",
        "\n",
        "\n",
        "if __name__ == '__main__':\n",
        "    data = np.ndarray((1600, 3), dtype=float)\n",
        "    for i in range(len(data)):\n",
        "        r = np.random.randint(0, 255)\n",
        "        g = np.random.randint(0, 255)\n",
        "        b = np.random.randint(0, 255)\n",
        "        data[i] = [r, g, b]\n",
        "    data = data / data.max()\n",
        "    som = SOFM(0.1, 4800)\n",
        "    som.train(data)\n",
        "\n"
      ],
      "execution_count": null,
      "outputs": [
        {
          "output_type": "display_data",
          "data": {
            "image/png": "[encoded data removed]",
            "text/plain": [
              "<Figure size 432x288 with 1 Axes>"
            ]
          },
          "metadata": {
            "tags": []
          }
        }
      ]
    },
    {
      "cell_type": "code",
      "metadata": {
        "id": "hhGJADNrdX79",
        "colab": {
          "base_uri": "https://localhost:8080/",
          "height": 511
        },
        "outputId": "40fd82e5-62cf-4397-bab9-b4fcd35d85b2"
      },
      "source": [
        "#Edited NETWORK(changbale learning rate)\n",
        "import matplotlib.pyplot as plt\n",
        "import numpy as np\n",
        "\n",
        "\n",
        "class SOFM:\n",
        "    def __init__(self, lr, epochs):\n",
        "        self.map = np.random.uniform(0, 1, size=(40, 40, 3))\n",
        "        self.epochs = epochs\n",
        "        self.landa = self.epochs / np.log(20)\n",
        "        self.radius = 20\n",
        "        self.lr = lr\n",
        "\n",
        "    def update_weights(self, minX, minY, x):\n",
        "        for i in range(len(self.map)):\n",
        "            for j in range(len(self.map[i])):\n",
        "                dist = np.power(np.power((i - minX), 2) + np.power((j - minY), 2), 0.5)\n",
        "                if dist < self.radius:\n",
        "                    influence = np.exp(-dist / (2 * (self.radius ** 2)))\n",
        "                    self.map[i][j] += influence * self.lr * (x - self.map[i][j])\n",
        "\n",
        "    def train1(self, input):\n",
        "        for epoch in range(self.epochs):\n",
        "            self.lr = 0.1 * np.exp(-epoch / self.landa)\n",
        "            data = input[epoch % 1600]\n",
        "            interval = float(\"inf\")\n",
        "            for i in range(len(self.map)):\n",
        "                for j in range(len(self.map[i])):\n",
        "                    if np.sqrt(np.sum(np.power((self.map[i][j] - data), 2 ))) < interval:\n",
        "                        interval = np.sqrt(np.sum(np.power((self.map[i][j] - data), 2)))\n",
        "                        X_min, Y_min = (i, j)\n",
        "            self.update_weights(X_min, Y_min, data)\n",
        "        plt.subplot(1, 1, 1)\n",
        "        plt.axis('off')\n",
        "        plt.title(\"output B\")\n",
        "        plt.imshow(self.map)\n",
        "        plt.show()\n",
        "\n",
        "    def train2(self, input):\n",
        "        for epoch in range(self.epochs):\n",
        "            self.lr = 0.1 * np.exp(-epoch / self.landa)\n",
        "            self.radius = 20 * np.exp(-epoch / self.landa)\n",
        "            data = input[epoch % 1600]\n",
        "            interval = float(\"inf\")\n",
        "            for i in range(len(self.map)):\n",
        "                for j in range(len(self.map[i])):\n",
        "                    if np.sqrt(np.sum(np.power((self.map[i][j] - data), 2 ))) < interval:\n",
        "                        interval = np.sqrt(np.sum(np.power((self.map[i][j] - data), 2)))\n",
        "                        X_min, Y_min = (i, j)\n",
        "            self.update_weights(X_min, Y_min, data)\n",
        "        plt.subplot(1, 1, 1)\n",
        "        plt.axis('off')\n",
        "        plt.title(\"output C\")\n",
        "        plt.imshow(self.map)\n",
        "        plt.show()\n",
        "\n",
        "\n",
        "if __name__ == '__main__':\n",
        "    data = np.ndarray((1600, 3), dtype=float)\n",
        "    for i in range(len(data)):\n",
        "        r = np.random.randint(0, 255)\n",
        "        g = np.random.randint(0, 255)\n",
        "        b = np.random.randint(0, 255)\n",
        "        data[i] = [r, g, b]\n",
        "    data = data / data.max()\n",
        "    som = SOFM(0.04, 3200)\n",
        "    som.train1(data)\n",
        "    som.train2(data)\n"
      ],
      "execution_count": 2,
      "outputs": [
        {
          "output_type": "display_data",
          "data": {
            "image/png": "[encoded data removed]",
            "text/plain": [
              "<Figure size 432x288 with 1 Axes>"
            ]
          },
          "metadata": {
            "tags": [],
            "needs_background": "light"
          }
        },
        {
          "output_type": "display_data",
          "data": {
            "image/png": "[encoded data removed]",
            "text/plain": [
              "<Figure size 432x288 with 1 Axes>"
            ]
          },
          "metadata": {
            "tags": [],
            "needs_background": "light"
          }
        }
      ]
    }
  ]
}